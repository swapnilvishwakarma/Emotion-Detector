{
  "nbformat": 4,
  "nbformat_minor": 5,
  "metadata": {
    "kernelspec": {
      "display_name": "Python 3",
      "language": "python",
      "name": "python3"
    },
    "language_info": {
      "codemirror_mode": {
        "name": "ipython",
        "version": 3
      },
      "file_extension": ".py",
      "mimetype": "text/x-python",
      "name": "python",
      "nbconvert_exporter": "python",
      "pygments_lexer": "ipython3",
      "version": "3.7.6"
    },
    "colab": {
      "name": "Emotion Detector.ipynb",
      "provenance": [],
      "collapsed_sections": []
    }
  },
  "cells": [
    {
      "cell_type": "markdown",
      "metadata": {
        "id": "GNY6__8_lEfQ"
      },
      "source": [
        "### Emotion Detector App using Streamlit\n",
        "- Detecting emotion\n",
        "- Text Classifier"
      ],
      "id": "GNY6__8_lEfQ"
    },
    {
      "cell_type": "code",
      "metadata": {
        "id": "ByM1H_e7lEfe"
      },
      "source": [
        "# !pip install neattext\n",
        "# !pip install streamlit\n",
        "# !pip install plotly"
      ],
      "id": "ByM1H_e7lEfe",
      "execution_count": 1,
      "outputs": []
    },
    {
      "cell_type": "code",
      "metadata": {
        "id": "DXGJVQQelEff"
      },
      "source": [
        "# Import Packages\n",
        "\n",
        "import joblib\n",
        "\n",
        "# Exploratory Data Analysis (EDA) Packages\n",
        "import pandas as pd\n",
        "import numpy as np\n",
        "\n",
        "# Visualization Packages\n",
        "import matplotlib.pyplot as plt\n",
        "import seaborn as sns\n",
        "\n",
        "# Text Cleaning \n",
        "import neattext.functions as nfx\n",
        "\n",
        "# Machine Learning Packages\n",
        "from sklearn.feature_extraction.text import CountVectorizer\n",
        "from sklearn.model_selection import train_test_split\n",
        "from sklearn.pipeline import Pipeline\n",
        "from sklearn.linear_model import LogisticRegression\n",
        "from sklearn.naive_bayes import MultinomialNB\n",
        "from sklearn.metrics import accuracy_score, confusion_matrix, classification_report"
      ],
      "id": "DXGJVQQelEff",
      "execution_count": 2,
      "outputs": []
    },
    {
      "cell_type": "code",
      "metadata": {
        "id": "xSV7mAJGlEfg"
      },
      "source": [
        "# Setting properties\n",
        "pd.set_option('display.max_colwidth', None)"
      ],
      "id": "xSV7mAJGlEfg",
      "execution_count": 3,
      "outputs": []
    },
    {
      "cell_type": "code",
      "metadata": {
        "id": "iRIlkfYwlEfh"
      },
      "source": [
        "# Load the dataset\n",
        "df = pd.read_csv(\"/content/emotion_dataset_raw.csv\")"
      ],
      "id": "iRIlkfYwlEfh",
      "execution_count": 4,
      "outputs": []
    },
    {
      "cell_type": "code",
      "metadata": {
        "colab": {
          "base_uri": "https://localhost:8080/"
        },
        "id": "6-Actj2IlEfi",
        "outputId": "9197cc29-c6f2-4c51-87ec-daf2b3c9168a"
      },
      "source": [
        "df.info()"
      ],
      "id": "6-Actj2IlEfi",
      "execution_count": 5,
      "outputs": [
        {
          "output_type": "stream",
          "text": [
            "<class 'pandas.core.frame.DataFrame'>\n",
            "RangeIndex: 34792 entries, 0 to 34791\n",
            "Data columns (total 2 columns):\n",
            " #   Column   Non-Null Count  Dtype \n",
            "---  ------   --------------  ----- \n",
            " 0   Emotion  34792 non-null  object\n",
            " 1   Text     34792 non-null  object\n",
            "dtypes: object(2)\n",
            "memory usage: 543.8+ KB\n"
          ],
          "name": "stdout"
        }
      ]
    },
    {
      "cell_type": "code",
      "metadata": {
        "colab": {
          "base_uri": "https://localhost:8080/",
          "height": 238
        },
        "id": "2TtSNInylEfl",
        "outputId": "997bafe1-9260-44a0-b005-5fb972ed168b"
      },
      "source": [
        "df.head()"
      ],
      "id": "2TtSNInylEfl",
      "execution_count": 6,
      "outputs": [
        {
          "output_type": "execute_result",
          "data": {
            "text/html": [
              "<div>\n",
              "<style scoped>\n",
              "    .dataframe tbody tr th:only-of-type {\n",
              "        vertical-align: middle;\n",
              "    }\n",
              "\n",
              "    .dataframe tbody tr th {\n",
              "        vertical-align: top;\n",
              "    }\n",
              "\n",
              "    .dataframe thead th {\n",
              "        text-align: right;\n",
              "    }\n",
              "</style>\n",
              "<table border=\"1\" class=\"dataframe\">\n",
              "  <thead>\n",
              "    <tr style=\"text-align: right;\">\n",
              "      <th></th>\n",
              "      <th>Emotion</th>\n",
              "      <th>Text</th>\n",
              "    </tr>\n",
              "  </thead>\n",
              "  <tbody>\n",
              "    <tr>\n",
              "      <th>0</th>\n",
              "      <td>neutral</td>\n",
              "      <td>Why ?</td>\n",
              "    </tr>\n",
              "    <tr>\n",
              "      <th>1</th>\n",
              "      <td>joy</td>\n",
              "      <td>Sage Act upgrade on my to do list for tommorow.</td>\n",
              "    </tr>\n",
              "    <tr>\n",
              "      <th>2</th>\n",
              "      <td>sadness</td>\n",
              "      <td>ON THE WAY TO MY HOMEGIRL BABY FUNERAL!!! MAN I HATE FUNERALS THIS REALLY SHOWS ME HOW BLESSED I AM</td>\n",
              "    </tr>\n",
              "    <tr>\n",
              "      <th>3</th>\n",
              "      <td>joy</td>\n",
              "      <td>Such an eye ! The true hazel eye-and so brilliant ! Regular features , open countenance , with a complexion , Oh ! What a bloom of full health , and such a pretty height and size ; such a firm and upright figure ! There is health , not merely in her bloom , but in her air , her head , her glance . One hears sometimes of a child being ' the picture of health ' ; now , she always gives me the idea of being the complete picture of grown-up health . She is loveliness itself .</td>\n",
              "    </tr>\n",
              "    <tr>\n",
              "      <th>4</th>\n",
              "      <td>joy</td>\n",
              "      <td>@Iluvmiasantos ugh babe.. hugggzzz for u .!  babe naamazed nga ako e babe e, despite nega's mas pinaramdam at fil ko ang</td>\n",
              "    </tr>\n",
              "  </tbody>\n",
              "</table>\n",
              "</div>"
            ],
            "text/plain": [
              "   Emotion                                                                                                                                                                                                                                                                                                                                                                                                                                                                                            Text\n",
              "0  neutral                                                                                                                                                                                                                                                                                                                                                                                                                                                                                          Why ? \n",
              "1      joy                                                                                                                                                                                                                                                                                                                                                                                                                                                 Sage Act upgrade on my to do list for tommorow.\n",
              "2  sadness                                                                                                                                                                                                                                                                                                                                                                                            ON THE WAY TO MY HOMEGIRL BABY FUNERAL!!! MAN I HATE FUNERALS THIS REALLY SHOWS ME HOW BLESSED I AM \n",
              "3      joy   Such an eye ! The true hazel eye-and so brilliant ! Regular features , open countenance , with a complexion , Oh ! What a bloom of full health , and such a pretty height and size ; such a firm and upright figure ! There is health , not merely in her bloom , but in her air , her head , her glance . One hears sometimes of a child being ' the picture of health ' ; now , she always gives me the idea of being the complete picture of grown-up health . She is loveliness itself . \n",
              "4      joy                                                                                                                                                                                                                                                                                                                                                                       @Iluvmiasantos ugh babe.. hugggzzz for u .!  babe naamazed nga ako e babe e, despite nega's mas pinaramdam at fil ko ang "
            ]
          },
          "metadata": {
            "tags": []
          },
          "execution_count": 6
        }
      ]
    },
    {
      "cell_type": "code",
      "metadata": {
        "colab": {
          "base_uri": "https://localhost:8080/"
        },
        "id": "hElR6mwhlEfn",
        "outputId": "0dd1a04a-f34b-45f2-cb93-872b833d9f5d"
      },
      "source": [
        "df['Emotion'].unique()"
      ],
      "id": "hElR6mwhlEfn",
      "execution_count": 7,
      "outputs": [
        {
          "output_type": "execute_result",
          "data": {
            "text/plain": [
              "array(['neutral', 'joy', 'sadness', 'fear', 'surprise', 'anger', 'shame',\n",
              "       'disgust'], dtype=object)"
            ]
          },
          "metadata": {
            "tags": []
          },
          "execution_count": 7
        }
      ]
    },
    {
      "cell_type": "code",
      "metadata": {
        "colab": {
          "base_uri": "https://localhost:8080/"
        },
        "id": "RxIWFF79lEfv",
        "outputId": "bde492df-931e-46fb-b0f6-5c09fce73469"
      },
      "source": [
        "# Counting rows for Emotion types\n",
        "df['Emotion'].value_counts()"
      ],
      "id": "RxIWFF79lEfv",
      "execution_count": 8,
      "outputs": [
        {
          "output_type": "execute_result",
          "data": {
            "text/plain": [
              "joy         11045\n",
              "sadness      6722\n",
              "fear         5410\n",
              "anger        4297\n",
              "surprise     4062\n",
              "neutral      2254\n",
              "disgust       856\n",
              "shame         146\n",
              "Name: Emotion, dtype: int64"
            ]
          },
          "metadata": {
            "tags": []
          },
          "execution_count": 8
        }
      ]
    },
    {
      "cell_type": "code",
      "metadata": {
        "colab": {
          "base_uri": "https://localhost:8080/",
          "height": 295
        },
        "id": "pue5mYX0lEf1",
        "outputId": "ebdc5588-cd85-4b73-ad7f-10f954d750fb"
      },
      "source": [
        "### Plot count of emotions\n",
        "sns.countplot(x='Emotion', data=df)\n",
        "plt.title(\"Count of Different types of Emotions\")\n",
        "plt.show()"
      ],
      "id": "pue5mYX0lEf1",
      "execution_count": 9,
      "outputs": [
        {
          "output_type": "display_data",
          "data": {
            "image/png": "[encoded data removed]",
            "text/plain": [
              "<Figure size 432x288 with 1 Axes>"
            ]
          },
          "metadata": {
            "tags": [],
            "needs_background": "light"
          }
        }
      ]
    },
    {
      "cell_type": "code",
      "metadata": {
        "colab": {
          "base_uri": "https://localhost:8080/"
        },
        "id": "sgJhHmpTlEf2",
        "outputId": "48490b22-aa1b-4e79-c172-85c448ee2dba"
      },
      "source": [
        "df.shape"
      ],
      "id": "sgJhHmpTlEf2",
      "execution_count": 10,
      "outputs": [
        {
          "output_type": "execute_result",
          "data": {
            "text/plain": [
              "(34792, 2)"
            ]
          },
          "metadata": {
            "tags": []
          },
          "execution_count": 10
        }
      ]
    },
    {
      "cell_type": "code",
      "metadata": {
        "colab": {
          "base_uri": "https://localhost:8080/"
        },
        "id": "wrO8pZHZlEf4",
        "outputId": "fd05f362-1124-4bfa-b6b1-c12d4d019449"
      },
      "source": [
        "df.drop_duplicates().shape"
      ],
      "id": "wrO8pZHZlEf4",
      "execution_count": 11,
      "outputs": [
        {
          "output_type": "execute_result",
          "data": {
            "text/plain": [
              "(31162, 2)"
            ]
          },
          "metadata": {
            "tags": []
          },
          "execution_count": 11
        }
      ]
    },
    {
      "cell_type": "code",
      "metadata": {
        "colab": {
          "base_uri": "https://localhost:8080/"
        },
        "id": "2Wls-SkYlEf6",
        "outputId": "89187474-88fc-45da-99c9-607c9ee8b759"
      },
      "source": [
        "34792-31162"
      ],
      "id": "2Wls-SkYlEf6",
      "execution_count": 12,
      "outputs": [
        {
          "output_type": "execute_result",
          "data": {
            "text/plain": [
              "3630"
            ]
          },
          "metadata": {
            "tags": []
          },
          "execution_count": 12
        }
      ]
    },
    {
      "cell_type": "code",
      "metadata": {
        "id": "BWa5XD_JlEf7"
      },
      "source": [
        "df = df.drop_duplicates()"
      ],
      "id": "BWa5XD_JlEf7",
      "execution_count": 13,
      "outputs": []
    },
    {
      "cell_type": "code",
      "metadata": {
        "colab": {
          "base_uri": "https://localhost:8080/"
        },
        "id": "WnuHMjFflEf8",
        "outputId": "4ca94781-20c1-4183-fb56-f7fc78e8ed45"
      },
      "source": [
        "df.drop_duplicates(['Text']).shape"
      ],
      "id": "WnuHMjFflEf8",
      "execution_count": 14,
      "outputs": [
        {
          "output_type": "execute_result",
          "data": {
            "text/plain": [
              "(31110, 2)"
            ]
          },
          "metadata": {
            "tags": []
          },
          "execution_count": 14
        }
      ]
    },
    {
      "cell_type": "code",
      "metadata": {
        "colab": {
          "base_uri": "https://localhost:8080/"
        },
        "id": "FFPc3tSklEf_",
        "outputId": "8576d6e2-fe3d-46f7-fc4f-191c6bbe5f9a"
      },
      "source": [
        "# Data Cleaning\n",
        "dir(nfx)"
      ],
      "id": "FFPc3tSklEf_",
      "execution_count": 15,
      "outputs": [
        {
          "output_type": "execute_result",
          "data": {
            "text/plain": [
              "['BTC_ADDRESS_REGEX',\n",
              " 'CURRENCY_REGEX',\n",
              " 'CURRENCY_SYMB_REGEX',\n",
              " 'Counter',\n",
              " 'DATE_REGEX',\n",
              " 'EMAIL_REGEX',\n",
              " 'EMOJI_REGEX',\n",
              " 'HASTAG_REGEX',\n",
              " 'MASTERCard_REGEX',\n",
              " 'MD5_SHA_REGEX',\n",
              " 'MOST_COMMON_PUNCT_REGEX',\n",
              " 'NUMBERS_REGEX',\n",
              " 'PHONE_REGEX',\n",
              " 'PoBOX_REGEX',\n",
              " 'SPECIAL_CHARACTERS_REGEX',\n",
              " 'STOPWORDS',\n",
              " 'STOPWORDS_de',\n",
              " 'STOPWORDS_en',\n",
              " 'STOPWORDS_es',\n",
              " 'STOPWORDS_fr',\n",
              " 'STOPWORDS_ru',\n",
              " 'STOPWORDS_yo',\n",
              " 'STREET_ADDRESS_REGEX',\n",
              " 'TextFrame',\n",
              " 'URL_PATTERN',\n",
              " 'USER_HANDLES_REGEX',\n",
              " 'VISACard_REGEX',\n",
              " '__builtins__',\n",
              " '__cached__',\n",
              " '__doc__',\n",
              " '__file__',\n",
              " '__generate_text',\n",
              " '__loader__',\n",
              " '__name__',\n",
              " '__numbers_dict',\n",
              " '__package__',\n",
              " '__spec__',\n",
              " '_lex_richness_herdan',\n",
              " '_lex_richness_maas_ttr',\n",
              " 'clean_text',\n",
              " 'defaultdict',\n",
              " 'digit2words',\n",
              " 'extract_btc_address',\n",
              " 'extract_currencies',\n",
              " 'extract_currency_symbols',\n",
              " 'extract_dates',\n",
              " 'extract_emails',\n",
              " 'extract_emojis',\n",
              " 'extract_hashtags',\n",
              " 'extract_html_tags',\n",
              " 'extract_mastercard_addr',\n",
              " 'extract_md5sha',\n",
              " 'extract_numbers',\n",
              " 'extract_pattern',\n",
              " 'extract_phone_numbers',\n",
              " 'extract_postoffice_box',\n",
              " 'extract_shortwords',\n",
              " 'extract_special_characters',\n",
              " 'extract_stopwords',\n",
              " 'extract_street_address',\n",
              " 'extract_urls',\n",
              " 'extract_userhandles',\n",
              " 'extract_visacard_addr',\n",
              " 'fix_contractions',\n",
              " 'generate_sentence',\n",
              " 'hamming_distance',\n",
              " 'inverse_df',\n",
              " 'lexical_richness',\n",
              " 'markov_chain',\n",
              " 'math',\n",
              " 'nlargest',\n",
              " 'normalize',\n",
              " 'num2words',\n",
              " 'random',\n",
              " 're',\n",
              " 'read_txt',\n",
              " 'remove_bad_quotes',\n",
              " 'remove_btc_address',\n",
              " 'remove_currencies',\n",
              " 'remove_currency_symbols',\n",
              " 'remove_custom_pattern',\n",
              " 'remove_custom_words',\n",
              " 'remove_dates',\n",
              " 'remove_emails',\n",
              " 'remove_emojis',\n",
              " 'remove_hashtags',\n",
              " 'remove_html_tags',\n",
              " 'remove_mastercard_addr',\n",
              " 'remove_md5sha',\n",
              " 'remove_multiple_spaces',\n",
              " 'remove_non_ascii',\n",
              " 'remove_numbers',\n",
              " 'remove_phone_numbers',\n",
              " 'remove_postoffice_box',\n",
              " 'remove_puncts',\n",
              " 'remove_punctuations',\n",
              " 'remove_shortwords',\n",
              " 'remove_special_characters',\n",
              " 'remove_stopwords',\n",
              " 'remove_street_address',\n",
              " 'remove_urls',\n",
              " 'remove_userhandles',\n",
              " 'remove_visacard_addr',\n",
              " 'replace_bad_quotes',\n",
              " 'replace_currencies',\n",
              " 'replace_currency_symbols',\n",
              " 'replace_dates',\n",
              " 'replace_emails',\n",
              " 'replace_emojis',\n",
              " 'replace_numbers',\n",
              " 'replace_phone_numbers',\n",
              " 'replace_special_characters',\n",
              " 'replace_term',\n",
              " 'replace_urls',\n",
              " 'string',\n",
              " 'term_freq',\n",
              " 'to_txt',\n",
              " 'word_freq',\n",
              " 'word_length_freq']"
            ]
          },
          "metadata": {
            "tags": []
          },
          "execution_count": 15
        }
      ]
    },
    {
      "cell_type": "code",
      "metadata": {
        "scrolled": true,
        "id": "4KFSBKx-lEgB"
      },
      "source": [
        "# Removing Stopwords\n",
        "df['CleanText'] = df['Text'].apply(nfx.remove_stopwords)"
      ],
      "id": "4KFSBKx-lEgB",
      "execution_count": 16,
      "outputs": []
    },
    {
      "cell_type": "code",
      "metadata": {
        "id": "pZ_y_muSlEgC"
      },
      "source": [
        "# Removing user handles\n",
        "df['CleanText'] = df['CleanText'].apply(nfx.remove_userhandles)"
      ],
      "id": "pZ_y_muSlEgC",
      "execution_count": 17,
      "outputs": []
    },
    {
      "cell_type": "code",
      "metadata": {
        "colab": {
          "base_uri": "https://localhost:8080/",
          "height": 306
        },
        "id": "tZLPXbvulEgH",
        "outputId": "dcc14c7c-132f-46ab-dc84-c6c6e86b47d5"
      },
      "source": [
        "df.head()"
      ],
      "id": "tZLPXbvulEgH",
      "execution_count": 18,
      "outputs": [
        {
          "output_type": "execute_result",
          "data": {
            "text/html": [
              "<div>\n",
              "<style scoped>\n",
              "    .dataframe tbody tr th:only-of-type {\n",
              "        vertical-align: middle;\n",
              "    }\n",
              "\n",
              "    .dataframe tbody tr th {\n",
              "        vertical-align: top;\n",
              "    }\n",
              "\n",
              "    .dataframe thead th {\n",
              "        text-align: right;\n",
              "    }\n",
              "</style>\n",
              "<table border=\"1\" class=\"dataframe\">\n",
              "  <thead>\n",
              "    <tr style=\"text-align: right;\">\n",
              "      <th></th>\n",
              "      <th>Emotion</th>\n",
              "      <th>Text</th>\n",
              "      <th>CleanText</th>\n",
              "    </tr>\n",
              "  </thead>\n",
              "  <tbody>\n",
              "    <tr>\n",
              "      <th>0</th>\n",
              "      <td>neutral</td>\n",
              "      <td>Why ?</td>\n",
              "      <td>?</td>\n",
              "    </tr>\n",
              "    <tr>\n",
              "      <th>1</th>\n",
              "      <td>joy</td>\n",
              "      <td>Sage Act upgrade on my to do list for tommorow.</td>\n",
              "      <td>Sage Act upgrade list tommorow.</td>\n",
              "    </tr>\n",
              "    <tr>\n",
              "      <th>2</th>\n",
              "      <td>sadness</td>\n",
              "      <td>ON THE WAY TO MY HOMEGIRL BABY FUNERAL!!! MAN I HATE FUNERALS THIS REALLY SHOWS ME HOW BLESSED I AM</td>\n",
              "      <td>WAY HOMEGIRL BABY FUNERAL!!! MAN HATE FUNERALS SHOWS BLESSED</td>\n",
              "    </tr>\n",
              "    <tr>\n",
              "      <th>3</th>\n",
              "      <td>joy</td>\n",
              "      <td>Such an eye ! The true hazel eye-and so brilliant ! Regular features , open countenance , with a complexion , Oh ! What a bloom of full health , and such a pretty height and size ; such a firm and upright figure ! There is health , not merely in her bloom , but in her air , her head , her glance . One hears sometimes of a child being ' the picture of health ' ; now , she always gives me the idea of being the complete picture of grown-up health . She is loveliness itself .</td>\n",
              "      <td>eye ! true hazel eye-and brilliant ! Regular features , open countenance , complexion , Oh ! bloom health , pretty height size ; firm upright figure ! health , merely bloom , air , head , glance . hears child ' picture health ' ; , gives idea complete picture grown-up health . loveliness .</td>\n",
              "    </tr>\n",
              "    <tr>\n",
              "      <th>4</th>\n",
              "      <td>joy</td>\n",
              "      <td>@Iluvmiasantos ugh babe.. hugggzzz for u .!  babe naamazed nga ako e babe e, despite nega's mas pinaramdam at fil ko ang</td>\n",
              "      <td>ugh babe.. hugggzzz u .! babe naamazed nga ako e babe e, despite nega's mas pinaramdam fil ko ang</td>\n",
              "    </tr>\n",
              "  </tbody>\n",
              "</table>\n",
              "</div>"
            ],
            "text/plain": [
              "   Emotion  ...                                                                                                                                                                                                                                                                                           CleanText\n",
              "0  neutral  ...                                                                                                                                                                                                                                                                                                   ?\n",
              "1      joy  ...                                                                                                                                                                                                                                                                     Sage Act upgrade list tommorow.\n",
              "2  sadness  ...                                                                                                                                                                                                                                        WAY HOMEGIRL BABY FUNERAL!!! MAN HATE FUNERALS SHOWS BLESSED\n",
              "3      joy  ...  eye ! true hazel eye-and brilliant ! Regular features , open countenance , complexion , Oh ! bloom health , pretty height size ; firm upright figure ! health , merely bloom , air , head , glance . hears child ' picture health ' ; , gives idea complete picture grown-up health . loveliness .\n",
              "4      joy  ...                                                                                                                                                                                                   ugh babe.. hugggzzz u .! babe naamazed nga ako e babe e, despite nega's mas pinaramdam fil ko ang\n",
              "\n",
              "[5 rows x 3 columns]"
            ]
          },
          "metadata": {
            "tags": []
          },
          "execution_count": 18
        }
      ]
    },
    {
      "cell_type": "code",
      "metadata": {
        "id": "Xz08dZEmlEgI"
      },
      "source": [
        "x_train, x_test, y_train, y_test = train_test_split(\n",
        "    df['CleanText'], df['Emotion'], test_size=0.20, random_state=30)"
      ],
      "id": "Xz08dZEmlEgI",
      "execution_count": 19,
      "outputs": []
    },
    {
      "cell_type": "code",
      "metadata": {
        "id": "CGwWjdLGlEgM"
      },
      "source": [
        "sample_sent = \"I am feeling good\""
      ],
      "id": "CGwWjdLGlEgM",
      "execution_count": 20,
      "outputs": []
    },
    {
      "cell_type": "code",
      "metadata": {
        "id": "jiL-a06AlEgS"
      },
      "source": [
        "# !pip install pycaret"
      ],
      "id": "jiL-a06AlEgS",
      "execution_count": 21,
      "outputs": []
    },
    {
      "cell_type": "code",
      "metadata": {
        "id": "CMVoN21-lEgT"
      },
      "source": [
        "# from pycaret.classification import *\n",
        "\n",
        "# exp_clf = setup(df, target = 'Emotion')\n",
        "\n",
        "# # return best model\n",
        "# best = compare_models()\n",
        "\n",
        "# # return best model based on AUC\n",
        "# best = compare_models(sort = 'AUC') #default is 'Accuracy'\n",
        "\n",
        "# # compare specific models\n",
        "# best_specific = compare_models(whitelist = ['dt','rf','xgboost', 'lr', 'knn', 'nb', 'rbfsvm', 'mlp', 'ada', 'gbc', 'lightgbm'])\n",
        "\n",
        "# # blacklist certain models\n",
        "# best_specific = compare_models(blacklist = ['catboost', 'svm', 'gpc', 'ridge', 'qda', 'lda', 'et'])\n",
        "\n",
        "# # return top 3 models based on 'Accuracy'\n",
        "# top2 = compare_models(n_select = 2)"
      ],
      "id": "CMVoN21-lEgT",
      "execution_count": 22,
      "outputs": []
    },
    {
      "cell_type": "markdown",
      "metadata": {
        "id": "B0QxCb0VyLXN"
      },
      "source": [
        "As All the available RAM (12 GB in Google Colab) was being used up, I was unable to use pycaret. Hence I continued with sklearn"
      ],
      "id": "B0QxCb0VyLXN"
    },
    {
      "cell_type": "code",
      "metadata": {
        "id": "pYch-oAByZbw"
      },
      "source": [
        "from sklearn.tree import DecisionTreeClassifier\n",
        "from sklearn.ensemble import RandomForestClassifier\n",
        "from sklearn.neighbors import KNeighborsClassifier\n",
        "from sklearn.ensemble import GradientBoostingClassifier\n",
        "from sklearn import svm"
      ],
      "id": "pYch-oAByZbw",
      "execution_count": 23,
      "outputs": []
    },
    {
      "cell_type": "code",
      "metadata": {
        "id": "4DRhz8Eh3x7x"
      },
      "source": [
        "def predict_pipe(classifier):\n",
        "  \"\"\"\n",
        "  classifier => lr, dt, rf, knn, xgboost, svm\n",
        "  \"\"\"\n",
        "  if classifier == 'lr':\n",
        "    pipeline = Pipeline(steps=[('cv', CountVectorizer()), ('lr', LogisticRegression())])\n",
        "    pipeline.fit(x_train, y_train)\n",
        "    print(pipeline.predict([sample_sent]))\n",
        "    pipeline.classes_\n",
        "    print(pipeline.predict_proba([sample_sent]))\n",
        "    print(pipeline.score(x_test, y_test))\n",
        "    with open(\"emotion_classifier_lr.pkl\", \"wb\") as ec:\n",
        "      joblib.dump(pipeline, ec)\n",
        "  if classifier == 'dt':\n",
        "    pipeline = Pipeline(steps=[('cv', CountVectorizer()), ('dt', DecisionTreeClassifier())])\n",
        "    pipeline.fit(x_train, y_train)\n",
        "    print(pipeline.predict([sample_sent]))\n",
        "    pipeline.classes_\n",
        "    print(pipeline.predict_proba([sample_sent]))\n",
        "    print(pipeline.score(x_test, y_test))\n",
        "    with open(\"emotion_classifier_dt.pkl\", \"wb\") as ec:\n",
        "      joblib.dump(pipeline, ec)\n",
        "  if classifier == 'rf':\n",
        "    pipeline = Pipeline(steps=[('cv', CountVectorizer()), ('rf', RandomForestClassifier())])\n",
        "    pipeline.fit(x_train, y_train)\n",
        "    print(pipeline.predict([sample_sent]))\n",
        "    pipeline.classes_\n",
        "    print(pipeline.predict_proba([sample_sent]))\n",
        "    print(pipeline.score(x_test, y_test))\n",
        "    with open(\"emotion_classifier_rf.pkl\", \"wb\") as ec:\n",
        "      joblib.dump(pipeline, ec)\n",
        "  if classifier == 'knn':\n",
        "    pipeline = Pipeline(steps=[('cv', CountVectorizer()), ('knn', KNeighborsClassifier())])\n",
        "    pipeline.fit(x_train, y_train)\n",
        "    print(pipeline.predict([sample_sent]))\n",
        "    pipeline.classes_\n",
        "    print(pipeline.predict_proba([sample_sent]))\n",
        "    print(pipeline.score(x_test, y_test))\n",
        "    with open(\"emotion_classifier_knn.pkl\", \"wb\") as ec:\n",
        "      joblib.dump(pipeline, ec)\n",
        "  if classifier == 'xgboost':\n",
        "    pipeline = Pipeline(steps=[('cv', CountVectorizer()), ('xgboost', GradientBoostingClassifier())])\n",
        "    pipeline.fit(x_train, y_train)\n",
        "    print(pipeline.predict([sample_sent]))\n",
        "    pipeline.classes_\n",
        "    print(pipeline.predict_proba([sample_sent]))\n",
        "    print(pipeline.score(x_test, y_test))\n",
        "    with open(\"emotion_classifier_xgboost.pkl\", \"wb\") as ec:\n",
        "      joblib.dump(pipeline, ec)"
      ],
      "id": "4DRhz8Eh3x7x",
      "execution_count": 24,
      "outputs": []
    },
    {
      "cell_type": "code",
      "metadata": {
        "colab": {
          "base_uri": "https://localhost:8080/"
        },
        "id": "LmTagctK6l24",
        "outputId": "26ea3400-7db4-4d9c-fe72-38f10a0c8adb"
      },
      "source": [
        "predict_pipe('lr')"
      ],
      "id": "LmTagctK6l24",
      "execution_count": 25,
      "outputs": [
        {
          "output_type": "stream",
          "text": [
            "/usr/local/lib/python3.7/dist-packages/sklearn/linear_model/_logistic.py:940: ConvergenceWarning: lbfgs failed to converge (status=1):\n",
            "STOP: TOTAL NO. of ITERATIONS REACHED LIMIT.\n",
            "\n",
            "Increase the number of iterations (max_iter) or scale the data as shown in:\n",
            "    https://scikit-learn.org/stable/modules/preprocessing.html\n",
            "Please also refer to the documentation for alternative solver options:\n",
            "    https://scikit-learn.org/stable/modules/linear_model.html#logistic-regression\n",
            "  extra_warning_msg=_LOGISTIC_SOLVER_CONVERGENCE_MSG)\n"
          ],
          "name": "stderr"
        },
        {
          "output_type": "stream",
          "text": [
            "['joy']\n",
            "[[0.02366239 0.09166467 0.03032705 0.54466948 0.10351696 0.11827704\n",
            "  0.00201665 0.08586575]]\n",
            "0.5811005936146318\n"
          ],
          "name": "stdout"
        }
      ]
    },
    {
      "cell_type": "code",
      "metadata": {
        "colab": {
          "base_uri": "https://localhost:8080/"
        },
        "id": "NEysMFxr6sjC",
        "outputId": "ab254463-e995-4dee-ee07-a2bf717c8eed"
      },
      "source": [
        "predict_pipe('dt')"
      ],
      "id": "NEysMFxr6sjC",
      "execution_count": 26,
      "outputs": [
        {
          "output_type": "stream",
          "text": [
            "['joy']\n",
            "[[0. 0. 0. 1. 0. 0. 0. 0.]]\n",
            "0.47521257821273866\n"
          ],
          "name": "stdout"
        }
      ]
    },
    {
      "cell_type": "code",
      "metadata": {
        "colab": {
          "base_uri": "https://localhost:8080/"
        },
        "id": "Puu9yYL-8CId",
        "outputId": "92f5277c-0f29-46e3-9f40-d8b884877004"
      },
      "source": [
        "predict_pipe('rf')"
      ],
      "id": "Puu9yYL-8CId",
      "execution_count": 27,
      "outputs": [
        {
          "output_type": "stream",
          "text": [
            "['neutral']\n",
            "[[0.03       0.01       0.         0.31166667 0.42666667 0.20166667\n",
            "  0.         0.02      ]]\n",
            "0.5368201508102037\n"
          ],
          "name": "stdout"
        }
      ]
    },
    {
      "cell_type": "code",
      "metadata": {
        "colab": {
          "base_uri": "https://localhost:8080/"
        },
        "id": "9HQf_juA8E-h",
        "outputId": "bd4b89ad-8a82-4144-8881-9f00a5d28a59"
      },
      "source": [
        "predict_pipe('knn')"
      ],
      "id": "9HQf_juA8E-h",
      "execution_count": 28,
      "outputs": [
        {
          "output_type": "stream",
          "text": [
            "['neutral']\n",
            "[[0.  0.  0.  0.  0.6 0.4 0.  0. ]]\n",
            "0.19813893791111825\n"
          ],
          "name": "stdout"
        }
      ]
    },
    {
      "cell_type": "code",
      "metadata": {
        "colab": {
          "base_uri": "https://localhost:8080/"
        },
        "id": "9Z_5am6l8GUY",
        "outputId": "ad414876-e20d-4561-b83a-c8a629906559"
      },
      "source": [
        "predict_pipe('xgboost')"
      ],
      "id": "9Z_5am6l8GUY",
      "execution_count": 29,
      "outputs": [
        {
          "output_type": "stream",
          "text": [
            "['joy']\n",
            "[[1.19393311e-01 2.48169060e-02 1.22316364e-01 3.51393431e-01\n",
            "  5.79212708e-02 2.00643924e-01 3.14227033e-06 1.23511651e-01]]\n",
            "0.5013637092892668\n"
          ],
          "name": "stdout"
        }
      ]
    }
  ]
}